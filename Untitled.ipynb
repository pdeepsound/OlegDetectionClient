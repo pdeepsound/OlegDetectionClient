{
 "cells": [
  {
   "cell_type": "code",
   "execution_count": 1,
   "id": "2d509520-62a4-4608-8ff2-4280bc11908a",
   "metadata": {},
   "outputs": [],
   "source": [
    "from od_client import ODAuthentication"
   ]
  },
  {
   "cell_type": "code",
   "execution_count": null,
   "id": "9da55a1a-ede0-4df2-945a-fc9fe28a1758",
   "metadata": {},
   "outputs": [],
   "source": [
    "ODAuthentication"
   ]
  },
  {
   "cell_type": "code",
   "execution_count": null,
   "id": "da7be7e1-d3a3-428c-a239-d30c02c74bd8",
   "metadata": {},
   "outputs": [],
   "source": []
  }
 ],
 "metadata": {
  "kernelspec": {
   "display_name": "Python 3",
   "language": "python",
   "name": "python3"
  },
  "language_info": {
   "codemirror_mode": {
    "name": "ipython",
    "version": 3
   },
   "file_extension": ".py",
   "mimetype": "text/x-python",
   "name": "python",
   "nbconvert_exporter": "python",
   "pygments_lexer": "ipython3",
   "version": "3.7.10"
  }
 },
 "nbformat": 4,
 "nbformat_minor": 5
}
