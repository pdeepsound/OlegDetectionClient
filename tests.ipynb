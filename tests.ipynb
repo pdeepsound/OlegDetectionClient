{
 "cells": [
  {
   "cell_type": "code",
   "execution_count": 43,
   "metadata": {},
   "outputs": [],
   "source": [
    "from od_client_authentication import ODAuthentication\n",
    "from od_client_recognizer import ODRecognizer\n",
    "from load_audio import load_wav\n",
    "from sklearn.metrics import balanced_accuracy_score\n",
    "import time\n",
    "import glob\n",
    "import threading"
   ]
  },
  {
   "cell_type": "code",
   "execution_count": 44,
   "metadata": {},
   "outputs": [],
   "source": [
    "USERNAME = 'sergey_verbitskiy3'\n",
    "PASSWORD = 'tghskdn$dsfsd'"
   ]
  },
  {
   "cell_type": "code",
   "execution_count": 45,
   "metadata": {},
   "outputs": [],
   "source": [
    "token = '66d7c257ee3184a771ba99de9148b6f5b4fc110501350a8f601e2d6dd805e7ed'"
   ]
  },
  {
   "cell_type": "code",
   "execution_count": 46,
   "metadata": {},
   "outputs": [
    {
     "name": "stdout",
     "output_type": "stream",
     "text": [
      "Token is valid\n"
     ]
    }
   ],
   "source": [
    "recognizer = ODRecognizer(token)"
   ]
  },
  {
   "cell_type": "code",
   "execution_count": 47,
   "metadata": {},
   "outputs": [
    {
     "name": "stdout",
     "output_type": "stream",
     "text": [
      "Successfully received the number of recognized seconds for the token:\n",
      "For Short Mode: 45154.52\n",
      "For Long Mode: 156666.51\n",
      "Overall: 201821.03\n"
     ]
    },
    {
     "data": {
      "text/plain": [
       "{'short_mode': 45154.52, 'long_mode': 156666.51, 'all': 201821.03}"
      ]
     },
     "execution_count": 47,
     "metadata": {},
     "output_type": "execute_result"
    }
   ],
   "source": [
    "recognizer.recognized_seconds_by_token()"
   ]
  },
  {
   "cell_type": "code",
   "execution_count": 55,
   "metadata": {},
   "outputs": [],
   "source": [
    "files_oleg = glob.glob('validation/1. Ассистент Олег/*.wav')\n",
    "files_not_oleg = glob.glob('validation/2. Люди (муж.голос)/*.wav') + glob.glob('validation/3. Автоответчики (не Олег)/*.wav')"
   ]
  },
  {
   "cell_type": "code",
   "execution_count": 57,
   "metadata": {},
   "outputs": [
    {
     "name": "stdout",
     "output_type": "stream",
     "text": [
      "Audio data does not contain speech\n",
      "Wall time: 1min 27s\n"
     ]
    }
   ],
   "source": [
    "%%time\n",
    "targets = []\n",
    "predicts = []\n",
    "all_duration = 0\n",
    "delays = []\n",
    "\n",
    "for file in files_oleg:\n",
    "    audio, sr, dtype, duration = load_wav(file, max_duration=15)\n",
    "    time_start = time.time()\n",
    "    result = recognizer.recognize(audio=audio, sr=sr, dtype=dtype, mode='short')\n",
    "    if result is None:\n",
    "        predicts.append('not_oleg')\n",
    "    else:\n",
    "        predicts.append(result)\n",
    "        \n",
    "    delays.append(time.time() - time_start)\n",
    "    targets.append('oleg')\n",
    "    all_duration += duration\n",
    "    \n",
    "    \n",
    "for file in files_not_oleg:\n",
    "    audio, sr, dtype, duration = load_wav(file, max_duration=15)\n",
    "    time_start = time.time()\n",
    "    result = recognizer.recognize(audio=audio, sr=sr, dtype=dtype, mode='short')\n",
    "    if result is None:\n",
    "        predicts.append('not_oleg')\n",
    "    else:\n",
    "        predicts.append(result)\n",
    "    delays.append(time.time() - time_start)\n",
    "    targets.append('not_oleg')\n",
    "    all_duration += duration"
   ]
  },
  {
   "cell_type": "code",
   "execution_count": 53,
   "metadata": {},
   "outputs": [
    {
     "data": {
      "text/plain": [
       "0.9615384615384616"
      ]
     },
     "execution_count": 53,
     "metadata": {},
     "output_type": "execute_result"
    }
   ],
   "source": [
    "balanced_accuracy_score(targets, predicts)"
   ]
  },
  {
   "cell_type": "code",
   "execution_count": 10,
   "metadata": {},
   "outputs": [
    {
     "data": {
      "text/plain": [
       "1916.2400000000002"
      ]
     },
     "execution_count": 10,
     "metadata": {},
     "output_type": "execute_result"
    }
   ],
   "source": [
    "all_duration"
   ]
  },
  {
   "cell_type": "code",
   "execution_count": 11,
   "metadata": {},
   "outputs": [
    {
     "data": {
      "text/plain": [
       "0.5756721372728224"
      ]
     },
     "execution_count": 11,
     "metadata": {},
     "output_type": "execute_result"
    }
   ],
   "source": [
    "sum(delays) / len(delays)"
   ]
  },
  {
   "cell_type": "code",
   "execution_count": 12,
   "metadata": {},
   "outputs": [
    {
     "name": "stdout",
     "output_type": "stream",
     "text": [
      "Audio data does not contain speech\n",
      "Wall time: 2min 4s\n"
     ]
    }
   ],
   "source": [
    "%%time\n",
    "\n",
    "targets = []\n",
    "predicts = []\n",
    "all_duration = 0\n",
    "delays = []\n",
    "\n",
    "for file in files_oleg:\n",
    "    audio, sr, dtype, duration = load_wav(file)\n",
    "    if duration < 5.1:\n",
    "        continue\n",
    "    time_start = time.time()\n",
    "    result = recognizer.recognize(audio=audio, sr=sr, dtype=dtype, mode='long')\n",
    "    delays.append(time.time() - time_start)\n",
    "    if result is None:\n",
    "        predicts.append('not_oleg')\n",
    "    else:\n",
    "        predicts.append(result.results.mode())\n",
    "    targets.append('oleg')\n",
    "    \n",
    "    all_duration += duration\n",
    "    \n",
    "    \n",
    "for file in files_not_oleg:\n",
    "    audio, sr, dtype, duration = load_wav(file)\n",
    "    if duration < 5.1:\n",
    "        continue\n",
    "    time_start = time.time()\n",
    "    result = recognizer.recognize(audio=audio, sr=sr, dtype=dtype, mode='long')\n",
    "    delays.append(time.time() - time_start)\n",
    "    if result is None:\n",
    "        predicts.append('not_oleg')\n",
    "    else:\n",
    "        predicts.append(result.results.mode())\n",
    "    targets.append('not_oleg')\n",
    "    \n",
    "    all_duration += duration"
   ]
  },
  {
   "cell_type": "code",
   "execution_count": 23,
   "metadata": {},
   "outputs": [
    {
     "data": {
      "text/plain": [
       "0.8745505116510053"
      ]
     },
     "execution_count": 23,
     "metadata": {},
     "output_type": "execute_result"
    }
   ],
   "source": [
    "sum(delays) / len(delays)"
   ]
  },
  {
   "cell_type": "code",
   "execution_count": 16,
   "metadata": {},
   "outputs": [
    {
     "data": {
      "text/plain": [
       "'oleg'"
      ]
     },
     "execution_count": 16,
     "metadata": {},
     "output_type": "execute_result"
    }
   ],
   "source": [
    "predicts[0].item()"
   ]
  },
  {
   "cell_type": "code",
   "execution_count": 27,
   "metadata": {},
   "outputs": [
    {
     "data": {
      "text/plain": [
       "38.50816666666664"
      ]
     },
     "execution_count": 27,
     "metadata": {},
     "output_type": "execute_result"
    }
   ],
   "source": [
    "all_duration / 120"
   ]
  },
  {
   "cell_type": "code",
   "execution_count": 22,
   "metadata": {},
   "outputs": [
    {
     "data": {
      "text/plain": [
       "1.0"
      ]
     },
     "execution_count": 22,
     "metadata": {},
     "output_type": "execute_result"
    }
   ],
   "source": [
    "balanced_accuracy_score(targets, list(map(lambda x: x.item() if type(x) != type('') else x, predicts)))"
   ]
  },
  {
   "cell_type": "code",
   "execution_count": null,
   "metadata": {},
   "outputs": [],
   "source": []
  },
  {
   "cell_type": "code",
   "execution_count": null,
   "metadata": {},
   "outputs": [],
   "source": [
    "# multiple clients test\n",
    "short_file = glob.glob('Звуковые дорожки/1. Ассистент Олег/*.wav')[0]\n",
    "audio, sr, dtype, duration = load_wav(short_file)"
   ]
  },
  {
   "cell_type": "code",
   "execution_count": 50,
   "metadata": {},
   "outputs": [],
   "source": [
    "times = []\n",
    "\n",
    "for clients in range(1, 50):\n",
    "    threads = []\n",
    "    \n",
    "    for i in range(clients):\n",
    "        t = threading.Thread(target=recognizer.recognize, args=[audio, sr, dtype, 'short'])\n",
    "        threads.append(t)\n",
    "    \n",
    "    time_start = time.time()\n",
    "    \n",
    "    for i in range(clients):\n",
    "        threads[i].start()\n",
    "        \n",
    "        \n",
    "    for i in range(clients):\n",
    "        threads[i].join()\n",
    "        \n",
    "    times.append(time.time() - time_start)"
   ]
  },
  {
   "cell_type": "code",
   "execution_count": 52,
   "metadata": {},
   "outputs": [],
   "source": [
    "import matplotlib.pyplot as plt"
   ]
  },
  {
   "cell_type": "code",
   "execution_count": 61,
   "metadata": {},
   "outputs": [
    {
     "data": {
      "text/plain": [
       "[<matplotlib.lines.Line2D at 0x1b9d5435e20>]"
      ]
     },
     "execution_count": 61,
     "metadata": {},
     "output_type": "execute_result"
    },
    {
     "data": {
      "image/png": "[encoded data removed]",
      "text/plain": [
       "<Figure size 800x400 with 1 Axes>"
      ]
     },
     "metadata": {
      "needs_background": "light"
     },
     "output_type": "display_data"
    }
   ],
   "source": [
    "plt.figure(figsize=(10, 5), dpi=80)\n",
    "plt.plot(times, linewidth=2)"
   ]
  },
  {
   "cell_type": "code",
   "execution_count": 28,
   "metadata": {},
   "outputs": [],
   "source": [
    "audio, sr, dtype, duration = load_wav('test_audios/test10.wav')"
   ]
  },
  {
   "cell_type": "code",
   "execution_count": 29,
   "metadata": {},
   "outputs": [
    {
     "data": {
      "text/html": [
       "<div>\n",
       "<style scoped>\n",
       "    .dataframe tbody tr th:only-of-type {\n",
       "        vertical-align: middle;\n",
       "    }\n",
       "\n",
       "    .dataframe tbody tr th {\n",
       "        vertical-align: top;\n",
       "    }\n",
       "\n",
       "    .dataframe thead th {\n",
       "        text-align: right;\n",
       "    }\n",
       "</style>\n",
       "<table border=\"1\" class=\"dataframe\">\n",
       "  <thead>\n",
       "    <tr style=\"text-align: right;\">\n",
       "      <th></th>\n",
       "      <th>start</th>\n",
       "      <th>end</th>\n",
       "      <th>duration</th>\n",
       "      <th>confidence</th>\n",
       "      <th>results</th>\n",
       "    </tr>\n",
       "  </thead>\n",
       "  <tbody>\n",
       "    <tr>\n",
       "      <th>0</th>\n",
       "      <td>0.2</td>\n",
       "      <td>7</td>\n",
       "      <td>6.8</td>\n",
       "      <td>0.02</td>\n",
       "      <td>not_oleg</td>\n",
       "    </tr>\n",
       "  </tbody>\n",
       "</table>\n",
       "</div>"
      ],
      "text/plain": [
       "   start  end  duration  confidence   results\n",
       "0    0.2    7       6.8        0.02  not_oleg"
      ]
     },
     "execution_count": 29,
     "metadata": {},
     "output_type": "execute_result"
    }
   ],
   "source": [
    "recognizer.recognize(audio=audio, sr=sr, dtype=dtype, mode='long')"
   ]
  },
  {
   "cell_type": "code",
   "execution_count": 19,
   "metadata": {},
   "outputs": [
    {
     "data": {
      "text/html": [
       "<div>\n",
       "<style scoped>\n",
       "    .dataframe tbody tr th:only-of-type {\n",
       "        vertical-align: middle;\n",
       "    }\n",
       "\n",
       "    .dataframe tbody tr th {\n",
       "        vertical-align: top;\n",
       "    }\n",
       "\n",
       "    .dataframe thead th {\n",
       "        text-align: right;\n",
       "    }\n",
       "</style>\n",
       "<table border=\"1\" class=\"dataframe\">\n",
       "  <thead>\n",
       "    <tr style=\"text-align: right;\">\n",
       "      <th></th>\n",
       "      <th>start</th>\n",
       "      <th>end</th>\n",
       "      <th>duration</th>\n",
       "      <th>confidence</th>\n",
       "      <th>results</th>\n",
       "    </tr>\n",
       "  </thead>\n",
       "  <tbody>\n",
       "    <tr>\n",
       "      <th>0</th>\n",
       "      <td>2.7</td>\n",
       "      <td>5.1</td>\n",
       "      <td>2.4</td>\n",
       "      <td>1</td>\n",
       "      <td>oleg</td>\n",
       "    </tr>\n",
       "    <tr>\n",
       "      <th>1</th>\n",
       "      <td>5.3</td>\n",
       "      <td>6.3</td>\n",
       "      <td>1.0</td>\n",
       "      <td>1</td>\n",
       "      <td>oleg</td>\n",
       "    </tr>\n",
       "    <tr>\n",
       "      <th>2</th>\n",
       "      <td>9.3</td>\n",
       "      <td>16.0</td>\n",
       "      <td>6.7</td>\n",
       "      <td>1</td>\n",
       "      <td>oleg</td>\n",
       "    </tr>\n",
       "  </tbody>\n",
       "</table>\n",
       "</div>"
      ],
      "text/plain": [
       "   start   end  duration  confidence results\n",
       "0    2.7   5.1       2.4           1    oleg\n",
       "1    5.3   6.3       1.0           1    oleg\n",
       "2    9.3  16.0       6.7           1    oleg"
      ]
     },
     "execution_count": 19,
     "metadata": {},
     "output_type": "execute_result"
    }
   ],
   "source": [
    "recognizer.recognize(audio=audio, sr=sr, dtype=dtype, mode='long')"
   ]
  },
  {
   "cell_type": "code",
   "execution_count": 31,
   "metadata": {},
   "outputs": [
    {
     "name": "stdout",
     "output_type": "stream",
     "text": [
      "Wall time: 230 ms\n"
     ]
    }
   ],
   "source": [
    "%%time\n",
    "audio, sr, dtype, duration = load_wav('test_audios/test7.wav')"
   ]
  },
  {
   "cell_type": "code",
   "execution_count": 32,
   "metadata": {},
   "outputs": [],
   "source": [
    "times = []\n",
    "\n",
    "for clients in range(1, 10):\n",
    "    threads = []\n",
    "    \n",
    "    for i in range(clients):\n",
    "        t = threading.Thread(target=recognizer.recognize, args=[audio, sr, dtype, 'long'])\n",
    "        threads.append(t)\n",
    "    \n",
    "    time_start = time.time()\n",
    "    \n",
    "    for i in range(clients):\n",
    "        threads[i].start()\n",
    "        \n",
    "        \n",
    "    for i in range(clients):\n",
    "        threads[i].join()\n",
    "        \n",
    "    times.append(time.time() - time_start)"
   ]
  },
  {
   "cell_type": "code",
   "execution_count": 34,
   "metadata": {},
   "outputs": [
    {
     "data": {
      "text/plain": [
       "[<matplotlib.lines.Line2D at 0x1ec80a8f8b0>]"
      ]
     },
     "execution_count": 34,
     "metadata": {},
     "output_type": "execute_result"
    },
    {
     "data": {
      "image/png": "[encoded data removed]",
      "text/plain": [
       "<Figure size 800x400 with 1 Axes>"
      ]
     },
     "metadata": {
      "needs_background": "light"
     },
     "output_type": "display_data"
    }
   ],
   "source": [
    "import matplotlib.pyplot as plt\n",
    "plt.figure(figsize=(10, 5), dpi=80)\n",
    "plt.plot(times, linewidth=2)"
   ]
  },
  {
   "cell_type": "code",
   "execution_count": null,
   "metadata": {},
   "outputs": [],
   "source": []
  }
 ],
 "metadata": {
  "kernelspec": {
   "display_name": "Python 3",
   "language": "python",
   "name": "python3"
  },
  "language_info": {
   "codemirror_mode": {
    "name": "ipython",
    "version": 3
   },
   "file_extension": ".py",
   "mimetype": "text/x-python",
   "name": "python",
   "nbconvert_exporter": "python",
   "pygments_lexer": "ipython3",
   "version": "3.8.3"
  }
 },
 "nbformat": 4,
 "nbformat_minor": 4
}
