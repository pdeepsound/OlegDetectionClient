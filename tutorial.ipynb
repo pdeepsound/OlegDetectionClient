{
 "cells": [
  {
   "cell_type": "markdown",
   "metadata": {},
   "source": [
    "# Python Oleg Detection API "
   ]
  },
  {
   "cell_type": "markdown",
   "metadata": {},
   "source": [
    "## Введение"
   ]
  },
  {
   "cell_type": "markdown",
   "metadata": {},
   "source": [
    "Данный ноутбук содержит руководство по использованию **Oleg Detection API** для языка Python, примеры использования различных POST запросов для общения с сервером: взаимодействия с учетной записью и распознавание аудиозаписей.\n",
    "\n",
    "На данный момент реализовано два режима распознавания:\n",
    "- **Long Mode** используется для распознавания длинных аудиозаписей (от 5 секунд до 60 минут) и возвращает информацию о каждой фразе с речью (начало, конец, длительность фразы и результаты распознавания);\n",
    "- **Short Mode** используется для распознавания коротких аудиозаписей (до 15 секунд) и возвращает только результат распознавания (без разметки фраз).\n",
    "\n",
    "Поддерживаются аудиозаписи в формате .wav с битовой глубиной 16 и с любой частотой дискретизации."
   ]
  },
  {
   "cell_type": "code",
   "execution_count": 1,
   "metadata": {},
   "outputs": [],
   "source": [
    "# Импорт необходимых пакетов\n",
    "from od_client import ODAuthentication\n",
    "from od_client import ODRecognizer\n",
    "from od_client import load_wav"
   ]
  },
  {
   "cell_type": "markdown",
   "metadata": {},
   "source": [
    "- **ODAuthentication** используется в учетную запись для входа по логину и паролю, генерации новых токенов (которые далее используются для распознавания), и получения информации об используемых токенах;\n",
    "\n",
    "- **ODRecognizer** используется для распознавания аудио с помощью токенов."
   ]
  },
  {
   "cell_type": "markdown",
   "metadata": {},
   "source": [
    "## Взаимодействия с учетной записью"
   ]
  },
  {
   "cell_type": "markdown",
   "metadata": {},
   "source": [
    "### Вход в систему"
   ]
  },
  {
   "cell_type": "code",
   "execution_count": 4,
   "metadata": {},
   "outputs": [],
   "source": [
    "# предоставленные данные для входа\n",
    "# это пример! пожалуйста, вставьте свои данные\n",
    "USERNAME = 'example_username'\n",
    "PASSWORD = 'example_password'"
   ]
  },
  {
   "cell_type": "code",
   "execution_count": 5,
   "metadata": {},
   "outputs": [
    {
     "name": "stdout",
     "output_type": "stream",
     "text": [
      "Successfully signed-in with username example_username\n"
     ]
    }
   ],
   "source": [
    "# аутентификация\n",
    "authentificator = ODAuthentication(USERNAME, PASSWORD)"
   ]
  },
  {
   "cell_type": "markdown",
   "metadata": {},
   "source": [
    "### Получение нового API-токена"
   ]
  },
  {
   "cell_type": "markdown",
   "metadata": {},
   "source": [
    "Метод **new_token()** используется для генерации нового API-токена, который действует один месяц (максимальное количество действующих токенов для одного пользователя — 10)"
   ]
  },
  {
   "cell_type": "code",
   "execution_count": 4,
   "metadata": {},
   "outputs": [
    {
     "name": "stdout",
     "output_type": "stream",
     "text": [
      "Successfully received a new token: ad9e8c9b7d2b34fc53a71ba35b0d79a97416913a21bcc3d6ec7b89d97f8a053b that expires 2022-07-22\n"
     ]
    }
   ],
   "source": [
    "token, expire_date = authentificator.new_token()"
   ]
  },
  {
   "cell_type": "markdown",
   "metadata": {},
   "source": [
    "### Получение информации о действующих токенах"
   ]
  },
  {
   "cell_type": "markdown",
   "metadata": {},
   "source": [
    "Получение информации о действующих токенах, прикрепленных к пользователю с помощью метода **all_tokens()**"
   ]
  },
  {
   "cell_type": "code",
   "execution_count": 12,
   "metadata": {},
   "outputs": [
    {
     "name": "stdout",
     "output_type": "stream",
     "text": [
      "Successfully received all tokens\n"
     ]
    },
    {
     "data": {
      "text/plain": [
       "[{'token': '0e37da02c11ee2ff0c2a13a6ebc691eda01c307b8448365893b952f785215f24',\n",
       "  'expires': '2022-07-22'},\n",
       " {'token': '64c6297881f9b3f4a3e10943273980d2ca59fd96dcd0c1eb1a35976d3348b31f',\n",
       "  'expires': '2022-07-22'},\n",
       " {'token': '12a48f0c3b9ed826fcaa4806acfed3240a27e575cabdf4a2ec06eccea1b403cf',\n",
       "  'expires': '2022-07-22'},\n",
       " {'token': 'bf0703752c740f78546553a8f7a26552156a782a927a0c4f467c0de52a2fd580',\n",
       "  'expires': '2022-07-22'},\n",
       " {'token': 'e7fd74ebc93b6f47c67e9c5a807c74eedf3e040be10e184891cff5369c464bc8',\n",
       "  'expires': '2022-07-22'},\n",
       " {'token': 'f4cddd608e5e1a7f85cf38e7a79fc2ee532b30f7ce7acf54f51770de41149f20',\n",
       "  'expires': '2022-07-22'},\n",
       " {'token': '25e9ab041ffcad30f4f14dfea96727ea877ebb628dffe5301eb4599951ffc1ce',\n",
       "  'expires': '2022-07-22'},\n",
       " {'token': 'afc9ea77af3927c9a2154044151e8a68757b240f6dbbdc8ecc9218ffb49b5f25',\n",
       "  'expires': '2022-07-22'},\n",
       " {'token': '8ef7726e910b0f4dd3f995ba955941db53779f87ada8a19bf7391a758697a9a1',\n",
       "  'expires': '2022-07-22'}]"
      ]
     },
     "execution_count": 12,
     "metadata": {},
     "output_type": "execute_result"
    }
   ],
   "source": [
    "authentificator.all_tokens()"
   ]
  },
  {
   "cell_type": "markdown",
   "metadata": {},
   "source": [
    "### Получение информации о количестве распознанных секунд"
   ]
  },
  {
   "cell_type": "markdown",
   "metadata": {},
   "source": [
    "Получение информации о количестве распознанных секунд пользователем для каждого режима (Long Mode и Short Mode) за весь период с помощью **recognized_seconds_by_user(date='all')**"
   ]
  },
  {
   "cell_type": "code",
   "execution_count": 59,
   "metadata": {},
   "outputs": [
    {
     "name": "stdout",
     "output_type": "stream",
     "text": [
      "Successfully received the number of recognized seconds for all period:\n",
      "For Short Mode: 129.12\n",
      "For Long Mode: 432.59\n",
      "Overall: 561.71\n"
     ]
    },
    {
     "data": {
      "text/plain": [
       "{'short_mode': 129.12, 'long_mode': 432.59, 'all': 561.71}"
      ]
     },
     "execution_count": 59,
     "metadata": {},
     "output_type": "execute_result"
    }
   ],
   "source": [
    "authentificator.recognized_seconds_by_user(date='all')"
   ]
  },
  {
   "cell_type": "markdown",
   "metadata": {},
   "source": [
    "Получение информации о количестве распознанных секунд пользователем с начала месяца с помощью **recognized_seconds_by_user(date='month')**"
   ]
  },
  {
   "cell_type": "code",
   "execution_count": 60,
   "metadata": {},
   "outputs": [
    {
     "name": "stdout",
     "output_type": "stream",
     "text": [
      "Successfully received the number of recognized seconds for the last month:\n",
      "For Short Mode: 129.12\n",
      "For Long Mode: 432.59\n",
      "Overall: 561.71\n"
     ]
    },
    {
     "data": {
      "text/plain": [
       "{'short_mode': 129.12, 'long_mode': 432.59, 'all': 561.71}"
      ]
     },
     "execution_count": 60,
     "metadata": {},
     "output_type": "execute_result"
    }
   ],
   "source": [
    "authentificator.recognized_seconds_by_user(date='month')"
   ]
  },
  {
   "cell_type": "markdown",
   "metadata": {},
   "source": [
    "## Распознавание аудиозаписей с помощью API-токена"
   ]
  },
  {
   "cell_type": "markdown",
   "metadata": {},
   "source": [
    "Получение доступа к системе распознавания с помощью API-токена API_TOKEN (сгенерирован ранее)"
   ]
  },
  {
   "cell_type": "code",
   "execution_count": 64,
   "metadata": {},
   "outputs": [],
   "source": [
    "# это пример! пожалуйста, вставьте свой токен\n",
    "API_TOKEN = 'f4cddd608e5e1a7f85cf38e7a79fc2ee532b30f7ce7acf54f51770de41149f20'"
   ]
  },
  {
   "cell_type": "code",
   "execution_count": 65,
   "metadata": {},
   "outputs": [
    {
     "name": "stdout",
     "output_type": "stream",
     "text": [
      "Token is valid\n"
     ]
    }
   ],
   "source": [
    "recognizer = ODRecognizer(API_TOKEN)"
   ]
  },
  {
   "cell_type": "markdown",
   "metadata": {},
   "source": [
    "### Получение информации об API-токене"
   ]
  },
  {
   "cell_type": "markdown",
   "metadata": {},
   "source": [
    "Метод **token_information()** возвращает информацию о владельце токена и период действия"
   ]
  },
  {
   "cell_type": "code",
   "execution_count": 66,
   "metadata": {},
   "outputs": [
    {
     "name": "stdout",
     "output_type": "stream",
     "text": [
      "Successfully received information about the token\n",
      "Owner: example_username\n",
      "Expires: 2022-07-22\n"
     ]
    },
    {
     "data": {
      "text/plain": [
       "{'owner': 'example_username', 'expires': '2022-07-22'}"
      ]
     },
     "execution_count": 66,
     "metadata": {},
     "output_type": "execute_result"
    }
   ],
   "source": [
    "recognizer.token_information()"
   ]
  },
  {
   "cell_type": "markdown",
   "metadata": {},
   "source": [
    "### Получение информации о количестве распознанных секунд для конкретного API-токена"
   ]
  },
  {
   "cell_type": "markdown",
   "metadata": {},
   "source": [
    "Получение информации о количестве распознанных секунд с помощью токена"
   ]
  },
  {
   "cell_type": "code",
   "execution_count": 67,
   "metadata": {},
   "outputs": [
    {
     "name": "stdout",
     "output_type": "stream",
     "text": [
      "Successfully received the number of recognized seconds for the token:\n",
      "For Short Mode: 123.36\n",
      "For Long Mode: 421.07\n",
      "Overall: 544.43\n"
     ]
    },
    {
     "data": {
      "text/plain": [
       "{'short_mode': 123.36, 'long_mode': 421.07, 'all': 544.43}"
      ]
     },
     "execution_count": 67,
     "metadata": {},
     "output_type": "execute_result"
    }
   ],
   "source": [
    "recognizer.recognized_seconds_by_token()"
   ]
  },
  {
   "cell_type": "markdown",
   "metadata": {},
   "source": [
    "### Примеры распознавания"
   ]
  },
  {
   "cell_type": "markdown",
   "metadata": {},
   "source": [
    "Для загрузки байтов из аудиофайла и другой необходимой информации используется предложенный метод **load_wav(path_to_file, channel)**, где:\n",
    "- **path_to_file** — путь до аудиофайла;\n",
    "- **max_duration** — количество секунд от начала аудиофайла, которое необходимо загрузить (если max_duration = - 1, то загрузится полный аудиофайл);\n",
    "- **channel** — номер канала, на котором возможно появление Ассистента Олега (для исходящих звонков со стороны колл-центров чаще всего этот канал под индексом 0). Сервер принимает исключительно одноканальные аудио, поэтому необходимо выбрать один из двух в случае двухканальной записи.\n",
    "\n",
    "Данный метод возвращает последовательность байтов (**audio_bytes**), частоту дискретизации (**sr**), глубину кодирования (**dtype**) и длительность в секундах (**duration**)"
   ]
  },
  {
   "cell_type": "code",
   "execution_count": 22,
   "metadata": {},
   "outputs": [],
   "source": [
    "audio_bytes, sr, dtype, duration = load_wav('test_audios/test1.wav', max_duration=-1, channel=0)"
   ]
  },
  {
   "cell_type": "markdown",
   "metadata": {},
   "source": [
    "Для распознавания используется метод **recognize(audio_bytes, sr, dtype, mode)**, где:\n",
    "- **audio_bytes** — байты, извлеченные из аудиофайла;\n",
    "- **sr** — частота дискретизации;\n",
    "- **dtype** — глубина кодирования (на данный момент поддерживается только int16);\n",
    "- **mode** — режим распознавания ('short' для Short Mode и 'long' для Long Mode).\n",
    "\n",
    "<br>\n",
    "\n",
    "Ответы от сервера:\n",
    "- для **mode = 'short'** метод возвращает строку **oleg** если запись задержит речь Ассистента Олега, **not_oleg** если запись задержит речь человека или другого автоответчика, либо **None** если запись не содержит речь;\n",
    "\n",
    "- для **mode = 'long'** метод возвращает **таблицу (объект pandas.DataFrame)** если запись задержит речь и **None** иначе. Таблица содержит начало фраз с речью в секундах **start**, конец **end** и длительность **duration**, а также результаты распознавания **results** (строки 'oleg' или 'not_oleg') для каждой фразы и **confidence** (вероятность, что речь принадлежит Ассистенту Олегу)."
   ]
  },
  {
   "cell_type": "markdown",
   "metadata": {},
   "source": [
    "#### Пример №1 (Short Mode): запись содержит речь Ассистента Олега"
   ]
  },
  {
   "cell_type": "code",
   "execution_count": 68,
   "metadata": {},
   "outputs": [
    {
     "name": "stdout",
     "output_type": "stream",
     "text": [
      "oleg\n"
     ]
    }
   ],
   "source": [
    "audio_bytes, sr, dtype, duration = load_wav('test_audios/test1.wav', max_duration=-1, channel=0)\n",
    "results = recognizer.recognize(audio_bytes=audio_bytes, sr=sr, dtype=dtype, mode='short')\n",
    "print(results)"
   ]
  },
  {
   "cell_type": "markdown",
   "metadata": {},
   "source": [
    "#### Пример №2 (Short Mode): запись содержит речь человека"
   ]
  },
  {
   "cell_type": "code",
   "execution_count": 69,
   "metadata": {},
   "outputs": [
    {
     "name": "stdout",
     "output_type": "stream",
     "text": [
      "not_oleg\n"
     ]
    }
   ],
   "source": [
    "audio_bytes, sr, dtype, duration = load_wav('test_audios/test1.wav', max_duration=-1, channel=1)\n",
    "results = recognizer.recognize(audio_bytes=audio_bytes, sr=sr, dtype=dtype, mode='short')\n",
    "print(results)"
   ]
  },
  {
   "cell_type": "markdown",
   "metadata": {},
   "source": [
    "#### Пример №3 (Short Mode): запись не содержит речь"
   ]
  },
  {
   "cell_type": "code",
   "execution_count": 70,
   "metadata": {},
   "outputs": [
    {
     "name": "stdout",
     "output_type": "stream",
     "text": [
      "Audio data does not contain speech\n",
      "None\n"
     ]
    }
   ],
   "source": [
    "audio_bytes, sr, dtype, duration = load_wav('test_audios/test4.wav', max_duration=-1, channel=0)\n",
    "results = recognizer.recognize(audio_bytes=audio_bytes, sr=sr, dtype=dtype, mode='short')\n",
    "print(results)"
   ]
  },
  {
   "cell_type": "markdown",
   "metadata": {},
   "source": [
    "#### Пример №4 (Long Mode): запись содержит речь Ассистента Олега"
   ]
  },
  {
   "cell_type": "code",
   "execution_count": 71,
   "metadata": {},
   "outputs": [
    {
     "data": {
      "text/html": [
       "<div>\n",
       "<style scoped>\n",
       "    .dataframe tbody tr th:only-of-type {\n",
       "        vertical-align: middle;\n",
       "    }\n",
       "\n",
       "    .dataframe tbody tr th {\n",
       "        vertical-align: top;\n",
       "    }\n",
       "\n",
       "    .dataframe thead th {\n",
       "        text-align: right;\n",
       "    }\n",
       "</style>\n",
       "<table border=\"1\" class=\"dataframe\">\n",
       "  <thead>\n",
       "    <tr style=\"text-align: right;\">\n",
       "      <th></th>\n",
       "      <th>start</th>\n",
       "      <th>end</th>\n",
       "      <th>duration</th>\n",
       "      <th>confidence</th>\n",
       "      <th>results</th>\n",
       "    </tr>\n",
       "  </thead>\n",
       "  <tbody>\n",
       "    <tr>\n",
       "      <th>0</th>\n",
       "      <td>2.7</td>\n",
       "      <td>5.1</td>\n",
       "      <td>2.4</td>\n",
       "      <td>1</td>\n",
       "      <td>oleg</td>\n",
       "    </tr>\n",
       "    <tr>\n",
       "      <th>1</th>\n",
       "      <td>5.3</td>\n",
       "      <td>6.3</td>\n",
       "      <td>1.0</td>\n",
       "      <td>1</td>\n",
       "      <td>oleg</td>\n",
       "    </tr>\n",
       "    <tr>\n",
       "      <th>2</th>\n",
       "      <td>9.3</td>\n",
       "      <td>16.0</td>\n",
       "      <td>6.7</td>\n",
       "      <td>1</td>\n",
       "      <td>oleg</td>\n",
       "    </tr>\n",
       "  </tbody>\n",
       "</table>\n",
       "</div>"
      ],
      "text/plain": [
       "   start   end  duration  confidence results\n",
       "0    2.7   5.1       2.4           1    oleg\n",
       "1    5.3   6.3       1.0           1    oleg\n",
       "2    9.3  16.0       6.7           1    oleg"
      ]
     },
     "execution_count": 71,
     "metadata": {},
     "output_type": "execute_result"
    }
   ],
   "source": [
    "audio_bytes, sr, dtype, duration = load_wav('test_audios/test2.wav', max_duration=-1, channel=0)\n",
    "results = recognizer.recognize(audio_bytes=audio_bytes, sr=sr, dtype=dtype, mode='long')\n",
    "results"
   ]
  },
  {
   "cell_type": "markdown",
   "metadata": {},
   "source": [
    "#### Пример №5 (Long Mode): запись содержит речь человека"
   ]
  },
  {
   "cell_type": "code",
   "execution_count": 72,
   "metadata": {},
   "outputs": [
    {
     "data": {
      "text/html": [
       "<div>\n",
       "<style scoped>\n",
       "    .dataframe tbody tr th:only-of-type {\n",
       "        vertical-align: middle;\n",
       "    }\n",
       "\n",
       "    .dataframe tbody tr th {\n",
       "        vertical-align: top;\n",
       "    }\n",
       "\n",
       "    .dataframe thead th {\n",
       "        text-align: right;\n",
       "    }\n",
       "</style>\n",
       "<table border=\"1\" class=\"dataframe\">\n",
       "  <thead>\n",
       "    <tr style=\"text-align: right;\">\n",
       "      <th></th>\n",
       "      <th>start</th>\n",
       "      <th>end</th>\n",
       "      <th>duration</th>\n",
       "      <th>confidence</th>\n",
       "      <th>results</th>\n",
       "    </tr>\n",
       "  </thead>\n",
       "  <tbody>\n",
       "    <tr>\n",
       "      <th>0</th>\n",
       "      <td>1.2</td>\n",
       "      <td>1.5</td>\n",
       "      <td>0.3</td>\n",
       "      <td>0.32</td>\n",
       "      <td>not_oleg</td>\n",
       "    </tr>\n",
       "    <tr>\n",
       "      <th>1</th>\n",
       "      <td>1.9</td>\n",
       "      <td>3.0</td>\n",
       "      <td>1.1</td>\n",
       "      <td>0.00</td>\n",
       "      <td>not_oleg</td>\n",
       "    </tr>\n",
       "    <tr>\n",
       "      <th>2</th>\n",
       "      <td>3.0</td>\n",
       "      <td>3.7</td>\n",
       "      <td>0.7</td>\n",
       "      <td>0.00</td>\n",
       "      <td>not_oleg</td>\n",
       "    </tr>\n",
       "    <tr>\n",
       "      <th>3</th>\n",
       "      <td>5.8</td>\n",
       "      <td>6.5</td>\n",
       "      <td>0.7</td>\n",
       "      <td>0.00</td>\n",
       "      <td>not_oleg</td>\n",
       "    </tr>\n",
       "    <tr>\n",
       "      <th>4</th>\n",
       "      <td>10.8</td>\n",
       "      <td>11.1</td>\n",
       "      <td>0.3</td>\n",
       "      <td>0.19</td>\n",
       "      <td>not_oleg</td>\n",
       "    </tr>\n",
       "    <tr>\n",
       "      <th>5</th>\n",
       "      <td>13.6</td>\n",
       "      <td>14.9</td>\n",
       "      <td>1.3</td>\n",
       "      <td>0.00</td>\n",
       "      <td>not_oleg</td>\n",
       "    </tr>\n",
       "    <tr>\n",
       "      <th>6</th>\n",
       "      <td>23.0</td>\n",
       "      <td>24.7</td>\n",
       "      <td>1.7</td>\n",
       "      <td>0.00</td>\n",
       "      <td>not_oleg</td>\n",
       "    </tr>\n",
       "    <tr>\n",
       "      <th>7</th>\n",
       "      <td>31.6</td>\n",
       "      <td>33.0</td>\n",
       "      <td>1.4</td>\n",
       "      <td>0.00</td>\n",
       "      <td>not_oleg</td>\n",
       "    </tr>\n",
       "    <tr>\n",
       "      <th>8</th>\n",
       "      <td>38.6</td>\n",
       "      <td>40.5</td>\n",
       "      <td>1.9</td>\n",
       "      <td>0.00</td>\n",
       "      <td>not_oleg</td>\n",
       "    </tr>\n",
       "  </tbody>\n",
       "</table>\n",
       "</div>"
      ],
      "text/plain": [
       "   start   end  duration  confidence   results\n",
       "0    1.2   1.5       0.3        0.32  not_oleg\n",
       "1    1.9   3.0       1.1        0.00  not_oleg\n",
       "2    3.0   3.7       0.7        0.00  not_oleg\n",
       "3    5.8   6.5       0.7        0.00  not_oleg\n",
       "4   10.8  11.1       0.3        0.19  not_oleg\n",
       "5   13.6  14.9       1.3        0.00  not_oleg\n",
       "6   23.0  24.7       1.7        0.00  not_oleg\n",
       "7   31.6  33.0       1.4        0.00  not_oleg\n",
       "8   38.6  40.5       1.9        0.00  not_oleg"
      ]
     },
     "execution_count": 72,
     "metadata": {},
     "output_type": "execute_result"
    }
   ],
   "source": [
    "audio_bytes, sr, dtype, duration = load_wav('test_audios/test3.wav', max_duration=-1, channel=0)\n",
    "results = recognizer.recognize(audio_bytes=audio_bytes, sr=sr, dtype=dtype, mode='long')\n",
    "results"
   ]
  },
  {
   "cell_type": "markdown",
   "metadata": {},
   "source": [
    "#### Пример №6 (Long Mode): запись не содержит речь"
   ]
  },
  {
   "cell_type": "code",
   "execution_count": 73,
   "metadata": {},
   "outputs": [
    {
     "name": "stdout",
     "output_type": "stream",
     "text": [
      "Audio data does not contain speech\n",
      "None\n"
     ]
    }
   ],
   "source": [
    "audio_bytes, sr, dtype, duration = load_wav('test_audios/test4.wav', max_duration=-1, channel=0)\n",
    "results = recognizer.recognize(audio_bytes=audio_bytes, sr=sr, dtype=dtype, mode='long')\n",
    "print(results)"
   ]
  },
  {
   "cell_type": "markdown",
   "metadata": {},
   "source": [
    "## Замечание"
   ]
  },
  {
   "cell_type": "markdown",
   "metadata": {},
   "source": [
    "Примеры POST запросов представлены в **od_client/request_methods** и могут быть переписаны на другом языке программирования, как и метод для загрузки аудиофайлов (например, возможно отправлять на сервер для распознавания байты, полученные с микрофона, а не с файла)"
   ]
  },
  {
   "cell_type": "code",
   "execution_count": null,
   "metadata": {},
   "outputs": [],
   "source": []
  }
 ],
 "metadata": {
  "kernelspec": {
   "display_name": "Python 3",
   "language": "python",
   "name": "python3"
  },
  "language_info": {
   "codemirror_mode": {
    "name": "ipython",
    "version": 3
   },
   "file_extension": ".py",
   "mimetype": "text/x-python",
   "name": "python",
   "nbconvert_exporter": "python",
   "pygments_lexer": "ipython3",
   "version": "3.8.3"
  }
 },
 "nbformat": 4,
 "nbformat_minor": 4
}
