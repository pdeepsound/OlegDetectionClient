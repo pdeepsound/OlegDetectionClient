{
 "cells": [
  {
   "cell_type": "markdown",
   "metadata": {},
   "source": [
    "# Python Oleg Detection API "
   ]
  },
  {
   "cell_type": "markdown",
   "metadata": {},
   "source": [
    "## Введение"
   ]
  },
  {
   "cell_type": "markdown",
   "metadata": {},
   "source": [
    "Данный ноутбук содержит руководство по использованию **Oleg Detection API** для языка Python, примеры использования различных POST запросов для общения с сервером: взаимодействия с учетной записью и распознавание аудиозаписей.\n",
    "\n",
    "На данный момент реализовано два режима распознавания:\n",
    "- **Long Mode** используется для распознавания длинных аудиозаписей (от 5 секунд до 60 минут) и возвращает информацию о каждой фразе с речью (начало, конец, длительность фразы и результаты распознавания);\n",
    "- **Short Mode** используется для распознавания коротких аудиозаписей (до 15 секунд) и возвращает только результат распознавания (без разметки фраз).\n",
    "\n",
    "Поддерживаются аудиозаписи в формате .wav с битовой глубиной 16 и с любой частотой дискретизации."
   ]
  },
  {
   "cell_type": "code",
   "execution_count": 1,
   "metadata": {},
   "outputs": [],
   "source": [
    "# Импорт необходимых пакетов\n",
    "from od_client import ODAuthentication\n",
    "from od_client import ODRecognizer\n",
    "from od_client import load_wav"
   ]
  },
  {
   "cell_type": "markdown",
   "metadata": {},
   "source": [
    "- **ODAuthentication** используется в учетную запись для входа по логину и паролю, генерации новых токенов (которые далее используются для распознавания), и получения информации об используемых токенах;\n",
    "\n",
    "- **ODRecognizer** используется для распознавания аудио с помощью токенов."
   ]
  },
  {
   "cell_type": "markdown",
   "metadata": {},
   "source": [
    "## Взаимодействия с учетной записью"
   ]
  },
  {
   "cell_type": "markdown",
   "metadata": {},
   "source": [
    "### Вход в систему"
   ]
  },
  {
   "cell_type": "code",
   "execution_count": 2,
   "metadata": {},
   "outputs": [],
   "source": [
    "# предоставленные данные для входа\n",
    "# это пример! пожалуйста, вставьте свои данные\n",
    "USERNAME = 'username'\n",
    "PASSWORD = 'password'"
   ]
  },
  {
   "cell_type": "code",
   "execution_count": 3,
   "metadata": {},
   "outputs": [
    {
     "name": "stdout",
     "output_type": "stream",
     "text": [
      "Successfully signed-in with username username\n"
     ]
    }
   ],
   "source": [
    "# аутентификация\n",
    "authentificator = ODAuthentication(USERNAME, PASSWORD)"
   ]
  },
  {
   "cell_type": "markdown",
   "metadata": {},
   "source": [
    "### Получение нового API-токена"
   ]
  },
  {
   "cell_type": "markdown",
   "metadata": {},
   "source": [
    "Метод **new_token()** используется для генерации нового API-токена, который действует один месяц (максимальное количество действующих токенов для одного пользователя — 10)"
   ]
  },
  {
   "cell_type": "code",
   "execution_count": 4,
   "metadata": {},
   "outputs": [
    {
     "name": "stdout",
     "output_type": "stream",
     "text": [
      "Successfully received a new token: 8bb9f0bd922e2241551faacb17ac8e8493dc3255f57f4d8f779bf2a9aff38239 that expires 2022-07-22\n"
     ]
    }
   ],
   "source": [
    "token, expire_date = authentificator.new_token()"
   ]
  },
  {
   "cell_type": "markdown",
   "metadata": {},
   "source": [
    "### Получение информации о действующих токенах"
   ]
  },
  {
   "cell_type": "markdown",
   "metadata": {},
   "source": [
    "Получение информации о действующих токенах, прикрепленных к пользователю с помощью метода **all_tokens()**"
   ]
  },
  {
   "cell_type": "code",
   "execution_count": 5,
   "metadata": {},
   "outputs": [
    {
     "name": "stdout",
     "output_type": "stream",
     "text": [
      "Successfully received all tokens\n"
     ]
    },
    {
     "data": {
      "text/plain": [
       "[{'token': 'eb0c829d19ecff85d02cd1ffa55695536bc94aa162d5338e956e11672ec8cd3c',\n",
       "  'expires': '2022-07-22'},\n",
       " {'token': '8bb9f0bd922e2241551faacb17ac8e8493dc3255f57f4d8f779bf2a9aff38239',\n",
       "  'expires': '2022-07-22'}]"
      ]
     },
     "execution_count": 5,
     "metadata": {},
     "output_type": "execute_result"
    }
   ],
   "source": [
    "authentificator.all_tokens()"
   ]
  },
  {
   "cell_type": "markdown",
   "metadata": {},
   "source": [
    "### Получение информации о количестве распознанных секунд"
   ]
  },
  {
   "cell_type": "markdown",
   "metadata": {},
   "source": [
    "Получение информации о количестве распознанных секунд пользователем для каждого режима (Long Mode и Short Mode) за весь период с помощью **recognized_seconds_by_user(date='all')**"
   ]
  },
  {
   "cell_type": "code",
   "execution_count": 6,
   "metadata": {},
   "outputs": [
    {
     "name": "stdout",
     "output_type": "stream",
     "text": [
      "Successfully received the number of recognized seconds for all period:\n",
      "For Short Mode: 0.0\n",
      "For Long Mode: 0.0\n",
      "Overall: 0.0\n"
     ]
    },
    {
     "data": {
      "text/plain": [
       "{'short_mode': 0.0, 'long_mode': 0.0, 'all': 0.0}"
      ]
     },
     "execution_count": 6,
     "metadata": {},
     "output_type": "execute_result"
    }
   ],
   "source": [
    "authentificator.recognized_seconds_by_user(date='all')"
   ]
  },
  {
   "cell_type": "markdown",
   "metadata": {},
   "source": [
    "Получение информации о количестве распознанных секунд пользователем с начала месяца с помощью **recognized_seconds_by_user(date='month')**"
   ]
  },
  {
   "cell_type": "code",
   "execution_count": 7,
   "metadata": {},
   "outputs": [
    {
     "name": "stdout",
     "output_type": "stream",
     "text": [
      "Successfully received the number of recognized seconds for the last month:\n",
      "For Short Mode: 0.0\n",
      "For Long Mode: 0.0\n",
      "Overall: 0.0\n"
     ]
    },
    {
     "data": {
      "text/plain": [
       "{'short_mode': 0.0, 'long_mode': 0.0, 'all': 0.0}"
      ]
     },
     "execution_count": 7,
     "metadata": {},
     "output_type": "execute_result"
    }
   ],
   "source": [
    "authentificator.recognized_seconds_by_user(date='month')"
   ]
  },
  {
   "cell_type": "markdown",
   "metadata": {},
   "source": [
    "## Распознавание аудиозаписей с помощью API-токена"
   ]
  },
  {
   "cell_type": "markdown",
   "metadata": {},
   "source": [
    "Получение доступа к системе распознавания с помощью API-токена API_TOKEN (сгенерирован ранее)"
   ]
  },
  {
   "cell_type": "code",
   "execution_count": 8,
   "metadata": {},
   "outputs": [],
   "source": [
    "# это пример! пожалуйста, вставьте свой токен\n",
    "API_TOKEN = 'f4cddd608e5e1a7f85cf38e7a79fc2ee532b30f7ce7acf54f51770de41149f20'"
   ]
  },
  {
   "cell_type": "code",
   "execution_count": 9,
   "metadata": {},
   "outputs": [
    {
     "name": "stdout",
     "output_type": "stream",
     "text": [
      "Token is valid\n"
     ]
    }
   ],
   "source": [
    "recognizer = ODRecognizer(API_TOKEN)"
   ]
  },
  {
   "cell_type": "markdown",
   "metadata": {},
   "source": [
    "### Получение информации об API-токене"
   ]
  },
  {
   "cell_type": "markdown",
   "metadata": {},
   "source": [
    "Метод **token_information()** возвращает информацию о владельце токена и период действия"
   ]
  },
  {
   "cell_type": "code",
   "execution_count": 10,
   "metadata": {},
   "outputs": [
    {
     "name": "stdout",
     "output_type": "stream",
     "text": [
      "Successfully received information about the token\n",
      "Owner: example_username\n",
      "Expires: 2022-07-22\n"
     ]
    },
    {
     "data": {
      "text/plain": [
       "{'owner': 'example_username', 'expires': '2022-07-22'}"
      ]
     },
     "execution_count": 10,
     "metadata": {},
     "output_type": "execute_result"
    }
   ],
   "source": [
    "recognizer.token_information()"
   ]
  },
  {
   "cell_type": "markdown",
   "metadata": {},
   "source": [
    "### Получение информации о количестве распознанных секунд для конкретного API-токена"
   ]
  },
  {
   "cell_type": "markdown",
   "metadata": {},
   "source": [
    "Получение информации о количестве распознанных секунд с помощью токена"
   ]
  },
  {
   "cell_type": "code",
   "execution_count": 11,
   "metadata": {},
   "outputs": [
    {
     "name": "stdout",
     "output_type": "stream",
     "text": [
      "Successfully received the number of recognized seconds for the token:\n",
      "For Short Mode: 166.4\n",
      "For Long Mode: 555.41\n",
      "Overall: 721.81\n"
     ]
    },
    {
     "data": {
      "text/plain": [
       "{'short_mode': 166.4, 'long_mode': 555.41, 'all': 721.81}"
      ]
     },
     "execution_count": 11,
     "metadata": {},
     "output_type": "execute_result"
    }
   ],
   "source": [
    "recognizer.recognized_seconds_by_token()"
   ]
  },
  {
   "cell_type": "markdown",
   "metadata": {},
   "source": [
    "### Примеры распознавания"
   ]
  },
  {
   "cell_type": "markdown",
   "metadata": {},
   "source": [
    "Для загрузки байтов из аудиофайла и другой необходимой информации используется предложенный метод **load_wav(path_to_file, channel)**, где:\n",
    "- **path_to_file** — путь до аудиофайла;\n",
    "- **max_duration** — количество секунд от начала аудиофайла, которое необходимо загрузить (если max_duration = - 1, то загрузится полный аудиофайл);\n",
    "- **channel** — номер канала, на котором возможно появление Ассистента Олега (для исходящих звонков со стороны колл-центров чаще всего этот канал под индексом 0). Сервер принимает исключительно одноканальные аудио, поэтому необходимо выбрать один из двух в случае двухканальной записи.\n",
    "\n",
    "Данный метод возвращает последовательность байтов (**audio_bytes**), частоту дискретизации (**sr**), глубину кодирования (**dtype**) и длительность в секундах (**duration**)"
   ]
  },
  {
   "cell_type": "code",
   "execution_count": 12,
   "metadata": {},
   "outputs": [],
   "source": [
    "audio_bytes, sr, dtype, duration = load_wav('test_audios/test1.wav', max_duration=-1, channel=0)"
   ]
  },
  {
   "cell_type": "markdown",
   "metadata": {},
   "source": [
    "Для распознавания используется метод **recognize(audio_bytes, sr, dtype, mode)**, где:\n",
    "- **audio_bytes** — байты, извлеченные из аудиофайла;\n",
    "- **sr** — частота дискретизации;\n",
    "- **dtype** — глубина кодирования (на данный момент поддерживается только int16);\n",
    "- **mode** — режим распознавания ('short' для Short Mode и 'long' для Long Mode).\n",
    "\n",
    "<br>\n",
    "\n",
    "Ответы от сервера:\n",
    "- для **mode = 'short'** метод возвращает строку **oleg** если запись задержит речь Ассистента Олега, **not_oleg** если запись задержит речь человека или другого автоответчика, либо **None** если запись не содержит речь;\n",
    "\n",
    "- для **mode = 'long'** метод возвращает **таблицу (объект pandas.DataFrame)** если запись задержит речь и **None** иначе. Таблица содержит начало фраз с речью в секундах **start**, конец **end** и длительность **duration**, а также результаты распознавания **results** (строки 'oleg' или 'not_oleg') для каждой фразы и **confidence** (вероятность, что речь принадлежит Ассистенту Олегу)."
   ]
  },
  {
   "cell_type": "markdown",
   "metadata": {},
   "source": [
    "#### Пример №1 (Short Mode): запись содержит речь Ассистента Олега"
   ]
  },
  {
   "cell_type": "code",
   "execution_count": 13,
   "metadata": {},
   "outputs": [
    {
     "name": "stdout",
     "output_type": "stream",
     "text": [
      "oleg\n"
     ]
    }
   ],
   "source": [
    "audio_bytes, sr, dtype, duration = load_wav('test_audios/test1.wav', max_duration=-1, channel=0)\n",
    "results = recognizer.recognize(audio_bytes=audio_bytes, sr=sr, dtype=dtype, mode='short')\n",
    "print(results)"
   ]
  },
  {
   "cell_type": "markdown",
   "metadata": {},
   "source": [
    "#### Пример №2 (Short Mode): запись содержит речь человека"
   ]
  },
  {
   "cell_type": "code",
   "execution_count": 14,
   "metadata": {},
   "outputs": [
    {
     "name": "stdout",
     "output_type": "stream",
     "text": [
      "not_oleg\n"
     ]
    }
   ],
   "source": [
    "audio_bytes, sr, dtype, duration = load_wav('test_audios/test1.wav', max_duration=-1, channel=1)\n",
    "results = recognizer.recognize(audio_bytes=audio_bytes, sr=sr, dtype=dtype, mode='short')\n",
    "print(results)"
   ]
  },
  {
   "cell_type": "markdown",
   "metadata": {},
   "source": [
    "#### Пример №3 (Short Mode): запись не содержит речь"
   ]
  },
  {
   "cell_type": "code",
   "execution_count": 15,
   "metadata": {},
   "outputs": [
    {
     "name": "stdout",
     "output_type": "stream",
     "text": [
      "Audio data does not contain speech\n",
      "None\n"
     ]
    }
   ],
   "source": [
    "audio_bytes, sr, dtype, duration = load_wav('test_audios/test4.wav', max_duration=-1, channel=0)\n",
    "results = recognizer.recognize(audio_bytes=audio_bytes, sr=sr, dtype=dtype, mode='short')\n",
    "print(results)"
   ]
  },
  {
   "cell_type": "markdown",
   "metadata": {},
   "source": [
    "#### Пример №4 (Long Mode): запись содержит речь Ассистента Олега"
   ]
  },
  {
   "cell_type": "code",
   "execution_count": 16,
   "metadata": {},
   "outputs": [
    {
     "data": {
      "text/html": [
       "<div>\n",
       "<style scoped>\n",
       "    .dataframe tbody tr th:only-of-type {\n",
       "        vertical-align: middle;\n",
       "    }\n",
       "\n",
       "    .dataframe tbody tr th {\n",
       "        vertical-align: top;\n",
       "    }\n",
       "\n",
       "    .dataframe thead th {\n",
       "        text-align: right;\n",
       "    }\n",
       "</style>\n",
       "<table border=\"1\" class=\"dataframe\">\n",
       "  <thead>\n",
       "    <tr style=\"text-align: right;\">\n",
       "      <th></th>\n",
       "      <th>start</th>\n",
       "      <th>end</th>\n",
       "      <th>duration</th>\n",
       "      <th>confidence</th>\n",
       "      <th>results</th>\n",
       "    </tr>\n",
       "  </thead>\n",
       "  <tbody>\n",
       "    <tr>\n",
       "      <th>0</th>\n",
       "      <td>2.7</td>\n",
       "      <td>5.1</td>\n",
       "      <td>2.4</td>\n",
       "      <td>1</td>\n",
       "      <td>oleg</td>\n",
       "    </tr>\n",
       "    <tr>\n",
       "      <th>1</th>\n",
       "      <td>5.3</td>\n",
       "      <td>6.3</td>\n",
       "      <td>1.0</td>\n",
       "      <td>1</td>\n",
       "      <td>oleg</td>\n",
       "    </tr>\n",
       "    <tr>\n",
       "      <th>2</th>\n",
       "      <td>9.3</td>\n",
       "      <td>16.0</td>\n",
       "      <td>6.7</td>\n",
       "      <td>1</td>\n",
       "      <td>oleg</td>\n",
       "    </tr>\n",
       "  </tbody>\n",
       "</table>\n",
       "</div>"
      ],
      "text/plain": [
       "   start   end  duration  confidence results\n",
       "0    2.7   5.1       2.4           1    oleg\n",
       "1    5.3   6.3       1.0           1    oleg\n",
       "2    9.3  16.0       6.7           1    oleg"
      ]
     },
     "execution_count": 16,
     "metadata": {},
     "output_type": "execute_result"
    }
   ],
   "source": [
    "audio_bytes, sr, dtype, duration = load_wav('test_audios/test2.wav', max_duration=-1, channel=0)\n",
    "results = recognizer.recognize(audio_bytes=audio_bytes, sr=sr, dtype=dtype, mode='long')\n",
    "results"
   ]
  },
  {
   "cell_type": "markdown",
   "metadata": {},
   "source": [
    "#### Пример №5 (Long Mode): запись содержит речь человека"
   ]
  },
  {
   "cell_type": "code",
   "execution_count": 17,
   "metadata": {},
   "outputs": [
    {
     "data": {
      "text/html": [
       "<div>\n",
       "<style scoped>\n",
       "    .dataframe tbody tr th:only-of-type {\n",
       "        vertical-align: middle;\n",
       "    }\n",
       "\n",
       "    .dataframe tbody tr th {\n",
       "        vertical-align: top;\n",
       "    }\n",
       "\n",
       "    .dataframe thead th {\n",
       "        text-align: right;\n",
       "    }\n",
       "</style>\n",
       "<table border=\"1\" class=\"dataframe\">\n",
       "  <thead>\n",
       "    <tr style=\"text-align: right;\">\n",
       "      <th></th>\n",
       "      <th>start</th>\n",
       "      <th>end</th>\n",
       "      <th>duration</th>\n",
       "      <th>confidence</th>\n",
       "      <th>results</th>\n",
       "    </tr>\n",
       "  </thead>\n",
       "  <tbody>\n",
       "    <tr>\n",
       "      <th>0</th>\n",
       "      <td>1.2</td>\n",
       "      <td>1.5</td>\n",
       "      <td>0.3</td>\n",
       "      <td>0.32</td>\n",
       "      <td>not_oleg</td>\n",
       "    </tr>\n",
       "    <tr>\n",
       "      <th>1</th>\n",
       "      <td>1.9</td>\n",
       "      <td>3.0</td>\n",
       "      <td>1.1</td>\n",
       "      <td>0.00</td>\n",
       "      <td>not_oleg</td>\n",
       "    </tr>\n",
       "    <tr>\n",
       "      <th>2</th>\n",
       "      <td>3.0</td>\n",
       "      <td>3.7</td>\n",
       "      <td>0.7</td>\n",
       "      <td>0.00</td>\n",
       "      <td>not_oleg</td>\n",
       "    </tr>\n",
       "    <tr>\n",
       "      <th>3</th>\n",
       "      <td>5.8</td>\n",
       "      <td>6.5</td>\n",
       "      <td>0.7</td>\n",
       "      <td>0.00</td>\n",
       "      <td>not_oleg</td>\n",
       "    </tr>\n",
       "    <tr>\n",
       "      <th>4</th>\n",
       "      <td>10.8</td>\n",
       "      <td>11.1</td>\n",
       "      <td>0.3</td>\n",
       "      <td>0.19</td>\n",
       "      <td>not_oleg</td>\n",
       "    </tr>\n",
       "    <tr>\n",
       "      <th>5</th>\n",
       "      <td>13.6</td>\n",
       "      <td>14.9</td>\n",
       "      <td>1.3</td>\n",
       "      <td>0.00</td>\n",
       "      <td>not_oleg</td>\n",
       "    </tr>\n",
       "    <tr>\n",
       "      <th>6</th>\n",
       "      <td>23.0</td>\n",
       "      <td>24.7</td>\n",
       "      <td>1.7</td>\n",
       "      <td>0.00</td>\n",
       "      <td>not_oleg</td>\n",
       "    </tr>\n",
       "    <tr>\n",
       "      <th>7</th>\n",
       "      <td>31.6</td>\n",
       "      <td>33.0</td>\n",
       "      <td>1.4</td>\n",
       "      <td>0.00</td>\n",
       "      <td>not_oleg</td>\n",
       "    </tr>\n",
       "    <tr>\n",
       "      <th>8</th>\n",
       "      <td>38.6</td>\n",
       "      <td>40.5</td>\n",
       "      <td>1.9</td>\n",
       "      <td>0.00</td>\n",
       "      <td>not_oleg</td>\n",
       "    </tr>\n",
       "  </tbody>\n",
       "</table>\n",
       "</div>"
      ],
      "text/plain": [
       "   start   end  duration  confidence   results\n",
       "0    1.2   1.5       0.3        0.32  not_oleg\n",
       "1    1.9   3.0       1.1        0.00  not_oleg\n",
       "2    3.0   3.7       0.7        0.00  not_oleg\n",
       "3    5.8   6.5       0.7        0.00  not_oleg\n",
       "4   10.8  11.1       0.3        0.19  not_oleg\n",
       "5   13.6  14.9       1.3        0.00  not_oleg\n",
       "6   23.0  24.7       1.7        0.00  not_oleg\n",
       "7   31.6  33.0       1.4        0.00  not_oleg\n",
       "8   38.6  40.5       1.9        0.00  not_oleg"
      ]
     },
     "execution_count": 17,
     "metadata": {},
     "output_type": "execute_result"
    }
   ],
   "source": [
    "audio_bytes, sr, dtype, duration = load_wav('test_audios/test3.wav', max_duration=-1, channel=0)\n",
    "results = recognizer.recognize(audio_bytes=audio_bytes, sr=sr, dtype=dtype, mode='long')\n",
    "results"
   ]
  },
  {
   "cell_type": "markdown",
   "metadata": {},
   "source": [
    "#### Пример №6 (Long Mode): запись не содержит речь"
   ]
  },
  {
   "cell_type": "code",
   "execution_count": 18,
   "metadata": {},
   "outputs": [
    {
     "name": "stdout",
     "output_type": "stream",
     "text": [
      "Audio data does not contain speech\n",
      "None\n"
     ]
    }
   ],
   "source": [
    "audio_bytes, sr, dtype, duration = load_wav('test_audios/test4.wav', max_duration=-1, channel=0)\n",
    "results = recognizer.recognize(audio_bytes=audio_bytes, sr=sr, dtype=dtype, mode='long')\n",
    "print(results)"
   ]
  },
  {
   "cell_type": "markdown",
   "metadata": {},
   "source": [
    "## Замечание"
   ]
  },
  {
   "cell_type": "markdown",
   "metadata": {},
   "source": [
    "Примеры POST запросов представлены в **od_client/request_methods** и могут быть переписаны на другом языке программирования, как и метод для загрузки аудиофайлов (например, возможно отправлять на сервер для распознавания байты, полученные с микрофона, а не с файла)"
   ]
  }
 ],
 "metadata": {
  "kernelspec": {
   "display_name": "Python 3",
   "language": "python",
   "name": "python3"
  },
  "language_info": {
   "codemirror_mode": {
    "name": "ipython",
    "version": 3
   },
   "file_extension": ".py",
   "mimetype": "text/x-python",
   "name": "python",
   "nbconvert_exporter": "python",
   "pygments_lexer": "ipython3",
   "version": "3.7.10"
  }
 },
 "nbformat": 4,
 "nbformat_minor": 4
}
