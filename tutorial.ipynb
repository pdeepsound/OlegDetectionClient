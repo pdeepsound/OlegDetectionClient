{
 "cells": [
  {
   "cell_type": "markdown",
   "metadata": {},
   "source": [
    "# Python Oleg Detection API "
   ]
  },
  {
   "cell_type": "markdown",
   "metadata": {},
   "source": [
    "## Введение"
   ]
  },
  {
   "cell_type": "markdown",
   "metadata": {},
   "source": [
    "Данный ноутбук содержит руководство по использованию **Oleg Detection API** для языка Python, примеры использования различных POST запросов для общения с сервером: взаимодействия с учетной записью и распознавание аудиозаписей.\n",
    "\n",
    "На данный момент реализовано два режима распознавания:\n",
    "- **Long Mode** используется для распознавания длинных аудиозаписей (от 5 секунд до 60 минут) и возвращает информацию о каждой фразе с речью (начало, конец, длительность фразы и результаты распознавания);\n",
    "- **Short Mode** используется для распознавания коротких аудиозаписей (до 15 секунд) и возвращает только результат распознавания (без разметки фраз).\n",
    "\n",
    "Поддерживаются аудиозаписи в формате **.wav** с битовой глубиной 16 и с любой частотой дискретизации."
   ]
  },
  {
   "cell_type": "code",
   "execution_count": 1,
   "metadata": {},
   "outputs": [],
   "source": [
    "# Импорт необходимых пакетов\n",
    "from od_client import ODAuthentication, ODRecognizer, load_wav, FromMicrophone"
   ]
  },
  {
   "cell_type": "markdown",
   "metadata": {},
   "source": [
    "- **ODAuthentication** используется в учетную запись для входа по логину и паролю, генерации новых токенов (которые далее используются для распознавания), и получения информации об используемых токенах;\n",
    "\n",
    "- **ODRecognizer** используется для распознавания аудио с помощью токенов."
   ]
  },
  {
   "cell_type": "markdown",
   "metadata": {},
   "source": [
    "## Взаимодействия с учетной записью"
   ]
  },
  {
   "cell_type": "markdown",
   "metadata": {},
   "source": [
    "### Вход в систему"
   ]
  },
  {
   "cell_type": "code",
   "execution_count": 2,
   "metadata": {},
   "outputs": [],
   "source": [
    "# предоставленные данные для входа\n",
    "# это пример! пожалуйста, вставьте свои данные\n",
    "USERNAME = \"username\"\n",
    "PASSWORD = \"password\""
   ]
  },
  {
   "cell_type": "code",
   "execution_count": 3,
   "metadata": {},
   "outputs": [
    {
     "name": "stdout",
     "output_type": "stream",
     "text": [
      "Successfully signed-in with username username\n"
     ]
    }
   ],
   "source": [
    "# аутентификация\n",
    "authenticator = ODAuthentication(USERNAME, PASSWORD)"
   ]
  },
  {
   "cell_type": "markdown",
   "metadata": {},
   "source": [
    "### Получение нового API-токена"
   ]
  },
  {
   "cell_type": "markdown",
   "metadata": {},
   "source": [
    "Метод **new_token()** используется для генерации нового API-токена, который действует один месяц (максимальное количество действующих токенов для одного пользователя — 10)"
   ]
  },
  {
   "cell_type": "code",
   "execution_count": 4,
   "metadata": {},
   "outputs": [
    {
     "name": "stdout",
     "output_type": "stream",
     "text": [
      "Successfully received a new token: a4cd845f0ddd2fa7eff2d8dca7d242b34b753b9f97b213e3f2b18e117b23de97 that expires 2022-08-04\n"
     ]
    },
    {
     "data": {
      "text/plain": [
       "{'token': 'a4cd845f0ddd2fa7eff2d8dca7d242b34b753b9f97b213e3f2b18e117b23de97',\n",
       " 'expires': '2022-08-04'}"
      ]
     },
     "execution_count": 4,
     "metadata": {},
     "output_type": "execute_result"
    }
   ],
   "source": [
    "authenticator.new_token()"
   ]
  },
  {
   "cell_type": "markdown",
   "metadata": {},
   "source": [
    "### Получение информации о действующих токенах"
   ]
  },
  {
   "cell_type": "markdown",
   "metadata": {},
   "source": [
    "Получение информации о действующих токенах, прикрепленных к пользователю с помощью метода **all_tokens()**"
   ]
  },
  {
   "cell_type": "code",
   "execution_count": 5,
   "metadata": {},
   "outputs": [
    {
     "name": "stdout",
     "output_type": "stream",
     "text": [
      "Successfully received all tokens\n"
     ]
    },
    {
     "data": {
      "text/plain": [
       "[{'token': '8c9cbaf3c786bcbea2373167528c10f0276ce570a2128a6e27ec08b1bdd9e983',\n",
       "  'expires': '2022-08-04'},\n",
       " {'token': 'a4cd845f0ddd2fa7eff2d8dca7d242b34b753b9f97b213e3f2b18e117b23de97',\n",
       "  'expires': '2022-08-04'}]"
      ]
     },
     "execution_count": 5,
     "metadata": {},
     "output_type": "execute_result"
    }
   ],
   "source": [
    "authenticator.all_tokens()"
   ]
  },
  {
   "cell_type": "markdown",
   "metadata": {},
   "source": [
    "### Получение информации о количестве распознанных секунд"
   ]
  },
  {
   "cell_type": "markdown",
   "metadata": {},
   "source": [
    "Получение информации о количестве распознанных секунд пользователем для каждого режима (Long Mode и Short Mode) за весь период с помощью **recognized_seconds_by_user(date='all')**"
   ]
  },
  {
   "cell_type": "code",
   "execution_count": 6,
   "metadata": {},
   "outputs": [
    {
     "name": "stdout",
     "output_type": "stream",
     "text": [
      "Successfully received the numberof recognized seconds for all period:\n",
      "For Short Mode: 21.52\n",
      "For Long Mode: 0.0\n",
      "Overall: 21.52\n"
     ]
    },
    {
     "data": {
      "text/plain": [
       "{'short_mode': 21.52, 'long_mode': 0.0, 'all': 21.52}"
      ]
     },
     "execution_count": 6,
     "metadata": {},
     "output_type": "execute_result"
    }
   ],
   "source": [
    "authenticator.recognized_seconds_by_user(date=\"all\")"
   ]
  },
  {
   "cell_type": "markdown",
   "metadata": {},
   "source": [
    "Получение информации о количестве распознанных секунд пользователем с начала месяца с помощью **recognized_seconds_by_user(date='month')**"
   ]
  },
  {
   "cell_type": "code",
   "execution_count": 7,
   "metadata": {},
   "outputs": [
    {
     "name": "stdout",
     "output_type": "stream",
     "text": [
      "Successfully received the numberof recognized seconds for the last month:\n",
      "For Short Mode: 21.52\n",
      "For Long Mode: 0.0\n",
      "Overall: 21.52\n"
     ]
    },
    {
     "data": {
      "text/plain": [
       "{'short_mode': 21.52, 'long_mode': 0.0, 'all': 21.52}"
      ]
     },
     "execution_count": 7,
     "metadata": {},
     "output_type": "execute_result"
    }
   ],
   "source": [
    "authenticator.recognized_seconds_by_user(date=\"month\")"
   ]
  },
  {
   "cell_type": "markdown",
   "metadata": {},
   "source": [
    "## Распознавание аудиозаписей с помощью API-токена"
   ]
  },
  {
   "cell_type": "markdown",
   "metadata": {},
   "source": [
    "Получение доступа к системе распознавания с помощью API-токена API_TOKEN (сгенерирован ранее)"
   ]
  },
  {
   "cell_type": "code",
   "execution_count": 8,
   "metadata": {},
   "outputs": [],
   "source": [
    "# это пример! пожалуйста, вставьте свой токен\n",
    "API_TOKEN = \"8c9cbaf3c786bcbea2373167528c10f0276ce570a2128a6e27ec08b1bdd9e983\""
   ]
  },
  {
   "cell_type": "code",
   "execution_count": 9,
   "metadata": {},
   "outputs": [
    {
     "name": "stdout",
     "output_type": "stream",
     "text": [
      "Token is valid\n"
     ]
    }
   ],
   "source": [
    "recognizer = ODRecognizer(API_TOKEN)"
   ]
  },
  {
   "cell_type": "markdown",
   "metadata": {},
   "source": [
    "### Получение информации об API-токене"
   ]
  },
  {
   "cell_type": "markdown",
   "metadata": {},
   "source": [
    "Метод **token_information()** возвращает информацию о владельце токена и период действия"
   ]
  },
  {
   "cell_type": "code",
   "execution_count": 10,
   "metadata": {},
   "outputs": [
    {
     "name": "stdout",
     "output_type": "stream",
     "text": [
      "Successfully received information about the token\n",
      "Owner: username\n",
      "Expires: 2022-08-04\n"
     ]
    },
    {
     "data": {
      "text/plain": [
       "{'owner': 'username', 'expires': '2022-08-04'}"
      ]
     },
     "execution_count": 10,
     "metadata": {},
     "output_type": "execute_result"
    }
   ],
   "source": [
    "recognizer.token_information()"
   ]
  },
  {
   "cell_type": "markdown",
   "metadata": {},
   "source": [
    "### Получение информации о количестве распознанных секунд для конкретного API-токена"
   ]
  },
  {
   "cell_type": "markdown",
   "metadata": {},
   "source": [
    "Получение информации о количестве распознанных секунд с помощью токена"
   ]
  },
  {
   "cell_type": "code",
   "execution_count": 11,
   "metadata": {},
   "outputs": [
    {
     "name": "stdout",
     "output_type": "stream",
     "text": [
      "Successfully received the numberof recognized seconds for the token:\n",
      "For Short Mode: 21.52\n",
      "For Long Mode: 0.0\n",
      "Overall: 21.52\n"
     ]
    },
    {
     "data": {
      "text/plain": [
       "{'short_mode': 21.52, 'long_mode': 0.0, 'all': 21.52}"
      ]
     },
     "execution_count": 11,
     "metadata": {},
     "output_type": "execute_result"
    }
   ],
   "source": [
    "recognizer.recognized_seconds_by_token()"
   ]
  },
  {
   "cell_type": "markdown",
   "metadata": {},
   "source": [
    "### Примеры распознавания"
   ]
  },
  {
   "cell_type": "markdown",
   "metadata": {},
   "source": [
    "Для загрузки байтов из аудиофайла и другой необходимой информации используется предложенный метод **load_wav(path_to_file, channel)**, где:\n",
    "- **path_to_file** — путь до аудиофайла;\n",
    "- **max_duration** — количество секунд от начала аудиофайла, которое необходимо загрузить (если max_duration = - 1, то загрузится полный аудиофайл);\n",
    "- **channel** — номер канала, на котором возможно появление Ассистента Олега (для исходящих звонков со стороны колл-центров чаще всего этот канал под индексом 0). Сервер принимает исключительно одноканальные аудио, поэтому необходимо выбрать один из двух в случае двухканальной записи.\n",
    "\n",
    "Данный метод возвращает последовательность байтов (**audio_bytes**), частоту дискретизации (**sr**), глубину кодирования (**dtype**) и длительность в секундах (**duration**)"
   ]
  },
  {
   "cell_type": "code",
   "execution_count": 12,
   "metadata": {},
   "outputs": [],
   "source": [
    "audio_bytes, sr, dtype, duration = load_wav(\n",
    "    \"test_audios/test1.wav\", max_duration=-1, channel=0\n",
    ")"
   ]
  },
  {
   "cell_type": "markdown",
   "metadata": {},
   "source": [
    "Для распознавания используется метод **recognize(audio_bytes, sr, dtype, mode)**, где:\n",
    "- **audio_bytes** — байты, извлеченные из аудиофайла;\n",
    "- **sr** — частота дискретизации;\n",
    "- **dtype** — глубина кодирования (на данный момент поддерживается только int16);\n",
    "- **mode** — режим распознавания ('short' для Short Mode и 'long' для Long Mode).\n",
    "\n",
    "<br>\n",
    "\n",
    "Ответы:\n",
    "- для **mode = 'short'** метод возвращает строку **oleg** если запись задержит речь Ассистента Олега, **not_oleg** если запись содержит речь человека или другого автоответчика, либо **no_speech** если запись не содержит речь;\n",
    "\n",
    "- для **mode = 'long'** метод возвращает **таблицу (объект pandas.DataFrame)** если запись задержит речь и **no_speech** иначе. Таблица содержит начало фраз с речью в секундах **start**, конец **end** и длительность **duration**, а также результаты распознавания **results** (строки 'oleg' или 'not_oleg') для каждой фразы и **confidence** (вероятность, что речь принадлежит Ассистенту Олегу)."
   ]
  },
  {
   "cell_type": "markdown",
   "metadata": {},
   "source": [
    "#### Пример №1 (Short Mode): запись содержит речь Ассистента Олега"
   ]
  },
  {
   "cell_type": "code",
   "execution_count": 13,
   "metadata": {},
   "outputs": [
    {
     "name": "stdout",
     "output_type": "stream",
     "text": [
      "oleg\n"
     ]
    }
   ],
   "source": [
    "audio_bytes, sr, dtype, duration = load_wav(\n",
    "    \"test_audios/test1.wav\", max_duration=-1, channel=0\n",
    ")\n",
    "results = recognizer.recognize(\n",
    "    audio_bytes=audio_bytes, sr=sr, dtype=dtype, mode=\"short\"\n",
    ")\n",
    "print(results)"
   ]
  },
  {
   "cell_type": "markdown",
   "metadata": {},
   "source": [
    "#### Пример №2 (Short Mode): запись содержит речь человека"
   ]
  },
  {
   "cell_type": "code",
   "execution_count": 14,
   "metadata": {},
   "outputs": [
    {
     "name": "stdout",
     "output_type": "stream",
     "text": [
      "not_oleg\n"
     ]
    }
   ],
   "source": [
    "audio_bytes, sr, dtype, duration = load_wav(\n",
    "    \"test_audios/test1.wav\", max_duration=-1, channel=1\n",
    ")\n",
    "results = recognizer.recognize(\n",
    "    audio_bytes=audio_bytes, sr=sr, dtype=dtype, mode=\"short\"\n",
    ")\n",
    "print(results)"
   ]
  },
  {
   "cell_type": "markdown",
   "metadata": {},
   "source": [
    "#### Пример №3 (Short Mode): запись не содержит речь"
   ]
  },
  {
   "cell_type": "code",
   "execution_count": 15,
   "metadata": {},
   "outputs": [
    {
     "name": "stdout",
     "output_type": "stream",
     "text": [
      "no_speech\n"
     ]
    }
   ],
   "source": [
    "audio_bytes, sr, dtype, duration = load_wav(\n",
    "    \"test_audios/test4.wav\", max_duration=-1, channel=0\n",
    ")\n",
    "results = recognizer.recognize(\n",
    "    audio_bytes=audio_bytes, sr=sr, dtype=dtype, mode=\"short\"\n",
    ")\n",
    "print(results)"
   ]
  },
  {
   "cell_type": "markdown",
   "metadata": {},
   "source": [
    "#### Пример №4 (Long Mode): запись содержит речь Ассистента Олега"
   ]
  },
  {
   "cell_type": "code",
   "execution_count": 16,
   "metadata": {},
   "outputs": [
    {
     "data": {
      "text/html": [
       "<div>\n",
       "<style scoped>\n",
       "    .dataframe tbody tr th:only-of-type {\n",
       "        vertical-align: middle;\n",
       "    }\n",
       "\n",
       "    .dataframe tbody tr th {\n",
       "        vertical-align: top;\n",
       "    }\n",
       "\n",
       "    .dataframe thead th {\n",
       "        text-align: right;\n",
       "    }\n",
       "</style>\n",
       "<table border=\"1\" class=\"dataframe\">\n",
       "  <thead>\n",
       "    <tr style=\"text-align: right;\">\n",
       "      <th></th>\n",
       "      <th>start</th>\n",
       "      <th>end</th>\n",
       "      <th>duration</th>\n",
       "      <th>confidence</th>\n",
       "      <th>results</th>\n",
       "    </tr>\n",
       "  </thead>\n",
       "  <tbody>\n",
       "    <tr>\n",
       "      <th>0</th>\n",
       "      <td>2.7</td>\n",
       "      <td>5.1</td>\n",
       "      <td>2.4</td>\n",
       "      <td>1</td>\n",
       "      <td>oleg</td>\n",
       "    </tr>\n",
       "    <tr>\n",
       "      <th>1</th>\n",
       "      <td>5.3</td>\n",
       "      <td>6.3</td>\n",
       "      <td>1.0</td>\n",
       "      <td>1</td>\n",
       "      <td>oleg</td>\n",
       "    </tr>\n",
       "    <tr>\n",
       "      <th>2</th>\n",
       "      <td>9.3</td>\n",
       "      <td>16.0</td>\n",
       "      <td>6.7</td>\n",
       "      <td>1</td>\n",
       "      <td>oleg</td>\n",
       "    </tr>\n",
       "  </tbody>\n",
       "</table>\n",
       "</div>"
      ],
      "text/plain": [
       "   start   end  duration  confidence results\n",
       "0    2.7   5.1       2.4           1    oleg\n",
       "1    5.3   6.3       1.0           1    oleg\n",
       "2    9.3  16.0       6.7           1    oleg"
      ]
     },
     "execution_count": 16,
     "metadata": {},
     "output_type": "execute_result"
    }
   ],
   "source": [
    "audio_bytes, sr, dtype, duration = load_wav(\n",
    "    \"test_audios/test2.wav\", max_duration=-1, channel=0\n",
    ")\n",
    "results = recognizer.recognize(audio_bytes=audio_bytes, sr=sr, dtype=dtype, mode=\"long\")\n",
    "results"
   ]
  },
  {
   "cell_type": "markdown",
   "metadata": {},
   "source": [
    "#### Пример №5 (Long Mode): запись содержит речь человека"
   ]
  },
  {
   "cell_type": "code",
   "execution_count": 17,
   "metadata": {},
   "outputs": [
    {
     "data": {
      "text/html": [
       "<div>\n",
       "<style scoped>\n",
       "    .dataframe tbody tr th:only-of-type {\n",
       "        vertical-align: middle;\n",
       "    }\n",
       "\n",
       "    .dataframe tbody tr th {\n",
       "        vertical-align: top;\n",
       "    }\n",
       "\n",
       "    .dataframe thead th {\n",
       "        text-align: right;\n",
       "    }\n",
       "</style>\n",
       "<table border=\"1\" class=\"dataframe\">\n",
       "  <thead>\n",
       "    <tr style=\"text-align: right;\">\n",
       "      <th></th>\n",
       "      <th>start</th>\n",
       "      <th>end</th>\n",
       "      <th>duration</th>\n",
       "      <th>confidence</th>\n",
       "      <th>results</th>\n",
       "    </tr>\n",
       "  </thead>\n",
       "  <tbody>\n",
       "    <tr>\n",
       "      <th>0</th>\n",
       "      <td>1.2</td>\n",
       "      <td>1.5</td>\n",
       "      <td>0.3</td>\n",
       "      <td>0.32</td>\n",
       "      <td>not_oleg</td>\n",
       "    </tr>\n",
       "    <tr>\n",
       "      <th>1</th>\n",
       "      <td>1.9</td>\n",
       "      <td>3.0</td>\n",
       "      <td>1.1</td>\n",
       "      <td>0.00</td>\n",
       "      <td>not_oleg</td>\n",
       "    </tr>\n",
       "    <tr>\n",
       "      <th>2</th>\n",
       "      <td>3.0</td>\n",
       "      <td>3.7</td>\n",
       "      <td>0.7</td>\n",
       "      <td>0.00</td>\n",
       "      <td>not_oleg</td>\n",
       "    </tr>\n",
       "    <tr>\n",
       "      <th>3</th>\n",
       "      <td>5.8</td>\n",
       "      <td>6.5</td>\n",
       "      <td>0.7</td>\n",
       "      <td>0.00</td>\n",
       "      <td>not_oleg</td>\n",
       "    </tr>\n",
       "    <tr>\n",
       "      <th>4</th>\n",
       "      <td>10.8</td>\n",
       "      <td>11.1</td>\n",
       "      <td>0.3</td>\n",
       "      <td>0.19</td>\n",
       "      <td>not_oleg</td>\n",
       "    </tr>\n",
       "    <tr>\n",
       "      <th>5</th>\n",
       "      <td>13.6</td>\n",
       "      <td>14.9</td>\n",
       "      <td>1.3</td>\n",
       "      <td>0.00</td>\n",
       "      <td>not_oleg</td>\n",
       "    </tr>\n",
       "    <tr>\n",
       "      <th>6</th>\n",
       "      <td>23.0</td>\n",
       "      <td>24.7</td>\n",
       "      <td>1.7</td>\n",
       "      <td>0.00</td>\n",
       "      <td>not_oleg</td>\n",
       "    </tr>\n",
       "    <tr>\n",
       "      <th>7</th>\n",
       "      <td>31.6</td>\n",
       "      <td>33.0</td>\n",
       "      <td>1.4</td>\n",
       "      <td>0.00</td>\n",
       "      <td>not_oleg</td>\n",
       "    </tr>\n",
       "    <tr>\n",
       "      <th>8</th>\n",
       "      <td>38.6</td>\n",
       "      <td>40.5</td>\n",
       "      <td>1.9</td>\n",
       "      <td>0.00</td>\n",
       "      <td>not_oleg</td>\n",
       "    </tr>\n",
       "  </tbody>\n",
       "</table>\n",
       "</div>"
      ],
      "text/plain": [
       "   start   end  duration  confidence   results\n",
       "0    1.2   1.5       0.3        0.32  not_oleg\n",
       "1    1.9   3.0       1.1        0.00  not_oleg\n",
       "2    3.0   3.7       0.7        0.00  not_oleg\n",
       "3    5.8   6.5       0.7        0.00  not_oleg\n",
       "4   10.8  11.1       0.3        0.19  not_oleg\n",
       "5   13.6  14.9       1.3        0.00  not_oleg\n",
       "6   23.0  24.7       1.7        0.00  not_oleg\n",
       "7   31.6  33.0       1.4        0.00  not_oleg\n",
       "8   38.6  40.5       1.9        0.00  not_oleg"
      ]
     },
     "execution_count": 17,
     "metadata": {},
     "output_type": "execute_result"
    }
   ],
   "source": [
    "audio_bytes, sr, dtype, duration = load_wav(\n",
    "    \"test_audios/test3.wav\", max_duration=-1, channel=0\n",
    ")\n",
    "results = recognizer.recognize(audio_bytes=audio_bytes, sr=sr, dtype=dtype, mode=\"long\")\n",
    "results"
   ]
  },
  {
   "cell_type": "markdown",
   "metadata": {},
   "source": [
    "#### Пример №6 (Long Mode): запись не содержит речь"
   ]
  },
  {
   "cell_type": "code",
   "execution_count": 18,
   "metadata": {},
   "outputs": [
    {
     "name": "stdout",
     "output_type": "stream",
     "text": [
      "no_speech\n"
     ]
    }
   ],
   "source": [
    "audio_bytes, sr, dtype, duration = load_wav(\n",
    "    \"test_audios/test4.wav\", max_duration=-1, channel=0\n",
    ")\n",
    "results = recognizer.recognize(audio_bytes=audio_bytes, sr=sr, dtype=dtype, mode=\"long\")\n",
    "print(results)"
   ]
  },
  {
   "cell_type": "markdown",
   "metadata": {},
   "source": [
    "### Пример распознавания аудиопотока с помощью микрофона"
   ]
  },
  {
   "cell_type": "markdown",
   "metadata": {},
   "source": [
    "Сначала инициализируется стрим с обозначением **chunk_seconds** - количество секунд для одного сегмента (рекомендуется **chunk_seconds = 2** для точного распознавания)"
   ]
  },
  {
   "cell_type": "code",
   "execution_count": 19,
   "metadata": {},
   "outputs": [],
   "source": [
    "chunk_seconds = 2\n",
    "micro_stream = FromMicrophone(chunk_seconds=chunk_seconds, channels=1, sr=16000)"
   ]
  },
  {
   "cell_type": "markdown",
   "metadata": {},
   "source": [
    "Пример чтения аудиопотока с микрофона в течение 10 секунд и получения результатов:"
   ]
  },
  {
   "cell_type": "code",
   "execution_count": 21,
   "metadata": {},
   "outputs": [
    {
     "name": "stdout",
     "output_type": "stream",
     "text": [
      "seconds = 0:2, result = no_speech \n",
      "\n",
      "seconds = 2:4, result = oleg \n",
      "\n",
      "seconds = 4:6, result = oleg \n",
      "\n",
      "seconds = 6:8, result = oleg \n",
      "\n",
      "seconds = 8:10, result = no_speech \n",
      "\n"
     ]
    }
   ],
   "source": [
    "with micro_stream as stream:\n",
    "    for second in range(0, 10, chunk_seconds):\n",
    "        chunk_bytes = stream.read(micro_stream.chunk_size)\n",
    "        results = recognizer.recognize(audio_bytes=chunk_bytes, sr=micro_stream.sr, dtype='int16', mode='short')\n",
    "        print(f'seconds = {second}:{second + chunk_seconds}, result = {results} \\n')"
   ]
  },
  {
   "cell_type": "markdown",
   "metadata": {},
   "source": [
    "**Реализация потоковой обработки является примером и может значительно отличаться от конечной реазилации**"
   ]
  },
  {
   "cell_type": "markdown",
   "metadata": {},
   "source": [
    "## Замечание"
   ]
  },
  {
   "cell_type": "markdown",
   "metadata": {},
   "source": [
    "Примеры POST запросов представлены в **od_client/request_methods** и могут быть переписаны на другом языке программирования, как и метод для загрузки аудиофайлов (например, возможно отправлять на сервер для распознавания байты, полученные с микрофона, а не с файла)"
   ]
  }
 ],
 "metadata": {
  "kernelspec": {
   "display_name": "Python 3",
   "language": "python",
   "name": "python3"
  },
  "language_info": {
   "codemirror_mode": {
    "name": "ipython",
    "version": 3
   },
   "file_extension": ".py",
   "mimetype": "text/x-python",
   "name": "python",
   "nbconvert_exporter": "python",
   "pygments_lexer": "ipython3",
   "version": "3.7.10"
  }
 },
 "nbformat": 4,
 "nbformat_minor": 4
}
